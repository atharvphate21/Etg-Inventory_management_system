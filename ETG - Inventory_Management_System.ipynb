{
 "cells": [
  {
   "cell_type": "markdown",
   "id": "180f89e3",
   "metadata": {},
   "source": [
    "RECORD = {\n",
    "     112201 : {\"ID\": \"1\", \"NAME\": \"Dark Fantacy\",\"TYPE\": \"Food\",\"QUANTITY\": \"100\",\"PRICE\": \"60\"},\n",
    "     112202 : {\"ID\": \"2\", \"NAME\": \"Mi Earphones\",\"TYPE\": \"Electronics\",\"QUANTITY\": \"30\",\"PRICE\": \"1200\"},\n",
    "     112203 : {\"ID\": \"3\", \"NAME\": \"Nike shoe\",\"TYPE\": \"Fashion\",\"QUANTITY\": \"40\",\"PRICE\": \"2300\"},\n",
    "     112204 : {\"ID\": \"4\", \"NAME\": \"Addidas flipflop\",\"TYPE\": \"Fashion\",\"QUANTITY\": \"30\",\"PRICE\": \"550\"},\n",
    "     112205 : {\"ID\": \"5\", \"NAME\": \"Titan watch\",\"TYPE\": \"Electronics\",\"QUANTITY\": \"25\",\"PRICE\": \"2000\"},\n",
    "     112206 : {\"ID\": \"6\", \"NAME\": \"Iphone XR\",\"TYPE\": \"Electronics\",\"QUANTITY\": \"10\",\"PRICE\": \"50000\"},\n",
    "     112207 : {\"ID\": \"7\", \"NAME\": \"Boat Smart watch\",\"TYPE\": \"Electronics\",\"QUANTITY\": \"15\",\"PRICE\": \"3200\"},\n",
    "     112208 : {\"ID\": \"8\", \"NAME\": \"Mens T-shirt\",\"TYPE\": \"Fashion\",\"QUANTITY\": \"12\",\"PRICE\": \"450\"},\n",
    "     112209 : {\"ID\": \"9\", \"NAME\": \"Alexa\",\"TYPE\": \"Electronics\",\"QUANTITY\": \"10\",\"PRICE\": \"4000\"},\n",
    "     112210 : {\"ID\": \"10\", \"NAME\": \"Rayban sunglasses\",\"TYPE\": \"Fashion\",\"QUANTITY\": \"10\",\"PRICE\": \"2300\"},\n",
    "     112211 : {\"ID\": \"11\", \"NAME\": \"Rucksack\",\"TYPE\": \"Fashion\",\"QUANTITY\": \"7\",\"PRICE\": \"1500\"},\n",
    "     112212 : {\"ID\": \"12\", \"NAME\": \"Dabur Honey\",\"TYPE\": \"Food\",\"QUANTITY\": \"20\",\"PRICE\": \"200\"},\n",
    "     112213 : {\"ID\": \"13\", \"NAME\": \"Oreo\",\"TYPE\": \"Food\",\"QUANTITY\": \"100\",\"PRICE\": \"40\"},\n",
    "     112214 : {\"ID\": \"14\", \"NAME\": \"Tata Tea\",\"TYPE\": \"Food\",\"QUANTITY\": \"30\",\"PRICE\": \"250\"},\n",
    "     112215 : {\"ID\": \"15\", \"NAME\": \"Tata Salt\",\"TYPE\": \"Food\",\"QUANTITY\": \"30\",\"PRICE\": \"20\"},\n",
    "     112216 : {\"ID\": \"16\", \"NAME\": \"Soyabean Oil\",\"TYPE\": \"Food\",\"QUANTITY\": \"30\",\"PRICE\": \"240\"},\n",
    "     112217 : {\"ID\": \"17\", \"NAME\": \"Shampoo\",\"TYPE\": \"Fashion\",\"QUANTITY\": \"50\",\"PRICE\": \"170\"},\n",
    "     112218 : {\"ID\": \"18\", \"NAME\": \"Syska LED\",\"TYPE\": \"Electronics\",\"QUANTITY\": \"70\",\"PRICE\": \"200\"},\n",
    "     112219 : {\"ID\": \"19\", \"NAME\": \"HeadPhones\",\"TYPE\": \"Electronics\",\"QUANTITY\": \"15\",\"PRICE\": \"2500\"},\n",
    "     112220 : {\"ID\": \"20\", \"NAME\": \"Hand Wipes\",\"TYPE\": \"Fashion\",\"QUANTITY\": \"30\",\"PRICE\": \"300\"},\n",
    "     112221 : {\"ID\": \"21\", \"NAME\": \"Maggi\",\"TYPE\": \"Food\",\"QUANTITY\": \"40\",\"PRICE\": \"80\"},\n",
    "     112222 : {\"ID\": \"22\", \"NAME\": \"Hand Sanitizer\",\"TYPE\": \"Fashion\",\"QUANTITY\": \"40\",\"PRICE\": \"300\"},\n",
    "     112223 : {\"ID\": \"23\", \"NAME\": \"Wireless Mouse\",\"TYPE\": \"Electronics\",\"QUANTITY\": \"20\",\"PRICE\": \"300\"},\n",
    "     112224 : {\"ID\": \"24\", \"NAME\": \"Dell Keyboard\",\"TYPE\": \"Electronics\",\"QUANTITY\": \"20\",\"PRICE\": \"600\"},\n",
    "     112225 : {\"ID\": \"25\", \"NAME\": \"Books\",\"TYPE\": \"Fashion\",\"QUANTITY\": \"100\",\"PRICE\": \"200\"},\n",
    "     112226 : {\"ID\": \"26\", \"NAME\": \"Classic coffee\",\"TYPE\": \"Food\",\"QUANTITY\": \"20\",\"PRICE\": \"230\"},\n",
    "     112227 : {\"ID\": \"27\", \"NAME\": \"Aashirwad Aata\",\"TYPE\": \"Food\",\"QUANTITY\": \"20\",\"PRICE\": \"200\"},\n",
    "     112228 : {\"ID\": \"28\", \"NAME\": \"Guitar\",\"TYPE\": \"Musical\",\"QUANTITY\": \"5\",\"PRICE\": \"7000\"},\n",
    "     112229 : {\"ID\": \"29\", \"NAME\": \"Blower\",\"TYPE\": \"Electronics\",\"QUANTITY\": \"5\",\"PRICE\": \"4500\"},\n",
    "     112230 : {\"ID\": \"30\", \"NAME\": \"Bornvita\",\"TYPE\": \"Food\",\"QUANTITY\": \"40\",\"PRICE\": \"450\"}\n",
    "}\n",
    "import json\n",
    "with open(\"records.json\", \"w\") as outfile:\n",
    "    json.dump(RECORD, outfile, indent=1)"
   ]
  },
  {
   "cell_type": "code",
   "execution_count": null,
   "id": "fcf19d52",
   "metadata": {},
   "outputs": [],
   "source": []
  },
  {
   "cell_type": "markdown",
   "id": "bb4c7eb0",
   "metadata": {},
   "source": [
    "# Purchasing Products"
   ]
  },
  {
   "cell_type": "code",
   "execution_count": 8,
   "id": "d8a21144",
   "metadata": {},
   "outputs": [],
   "source": [
    "import json\n",
    "a_file = open(\"records.json\", \"r\")\n",
    "json_object = json.load(a_file)\n",
    "a_file.close()"
   ]
  },
  {
   "cell_type": "code",
   "execution_count": 9,
   "id": "265c8d68",
   "metadata": {},
   "outputs": [
    {
     "name": "stdout",
     "output_type": "stream",
     "text": [
      "Enter total no of products you want to purchase: 2\n",
      "Enter the ID :112203\n",
      "Enter the quantity:2\n",
      "Product :  Nike shoe - Fashion {'ID': '3', 'NAME': 'Nike shoe', 'TYPE': 'Fashion', 'QUANTITY': '40', 'PRICE': '2300'} x 2\n",
      "Enter the ID :112224\n",
      "Enter the quantity:3\n",
      "Product :  Dell Keyboard - Electronics {'ID': '24', 'NAME': 'Dell Keyboard', 'TYPE': 'Electronics', 'QUANTITY': '20', 'PRICE': '600'} x 3\n"
     ]
    }
   ],
   "source": [
    "temp = {}\n",
    "no = int(input(\"Enter total no of products you want to purchase: \"))\n",
    "for x in range(no):   \n",
    "        id1 = input(\"Enter the ID :\")\n",
    "        quantity = int(input(\"Enter the quantity:\")) \n",
    "        if quantity > int(json_object[id1]['QUANTITY']):    \n",
    "            print(\"not available\")         \n",
    "        else :      \n",
    "            print(\"Product : \",json_object[id1]['NAME'],\"-\",json_object[id1]['TYPE'],json_object[id1],\n",
    "                  \"x\",quantity)    \n",
    "            temp[id1] = quantity"
   ]
  },
  {
   "cell_type": "markdown",
   "id": "2ea62adf",
   "metadata": {},
   "source": [
    "# Generating Receipt"
   ]
  },
  {
   "cell_type": "code",
   "execution_count": 38,
   "id": "e8c73ee4",
   "metadata": {},
   "outputs": [
    {
     "name": "stdout",
     "output_type": "stream",
     "text": [
      "***If you want you can download the Receipt***\n",
      "\n",
      "Nike shoe - Fashion ( {'ID': '3', 'NAME': 'Nike shoe', 'TYPE': 'Fashion', 'QUANTITY': 26, 'PRICE': '2300'} ) X 3\n",
      "Dell Keyboard - Electronics ( {'ID': '24', 'NAME': 'Dell Keyboard', 'TYPE': 'Electronics', 'QUANTITY': -4, 'PRICE': '600'} ) X 3\n",
      "=============================================================\n",
      "Total = 6400.0 Rs\n",
      "\n",
      "THANk YOU FOR SHOPPING WITH US\n"
     ]
    }
   ],
   "source": [
    "\n",
    "\n",
    "total_price = 0\n",
    "sales = {}\n",
    "print(\"***If you want you can download the Receipt***\")\n",
    "print(\"\")\n",
    "\n",
    "for i in temp:\n",
    "    \n",
    "    json_object[i]['QUANTITY'] = int(json_object[i]['QUANTITY']) - temp[i]\n",
    "    a_file = open(\"records.json\", \"w\")\n",
    "    json.dump(json_object, a_file)\n",
    "    a_file.close()\n",
    "          \n",
    "    int_price = float(json_object[i]['PRICE'])\n",
    "    final_price = (int_price*temp[i])\n",
    "\n",
    "\n",
    "    \n",
    "    \n",
    "    print(json_object[i]['NAME'],\"-\",json_object[i]['TYPE'],\"(\",json_object[i],\n",
    "          \") X\",quantity )\n",
    "    \n",
    "    total_price = total_price + final_price\n",
    "\n",
    "\n",
    "\n",
    "print(\"=============================================================\")\n",
    "print(\"Total =\",total_price,\"Rs\")\n",
    "print(\"\")\n",
    "print(\"THANk YOU FOR SHOPPING WITH US\")\n",
    "\n",
    "import json\n",
    "with open(\"sales.json\", \"w\") as outfile:\n",
    "    json.dump(sales, outfile, indent=1)"
   ]
  },
  {
   "cell_type": "markdown",
   "id": "ec3c598b",
   "metadata": {},
   "source": [
    "# Adding product to Inventory"
   ]
  },
  {
   "cell_type": "code",
   "execution_count": 31,
   "id": "31d2c39d",
   "metadata": {},
   "outputs": [
    {
     "name": "stdout",
     "output_type": "stream",
     "text": [
      "Enter total no of products to add: 3\n",
      "Enter the product ID :112204\n",
      "Enter the quantity:12\n",
      "Enter the product ID :112209\n",
      "Enter the quantity:18\n",
      "Enter the product ID :112222\n",
      "Enter the quantity:50\n"
     ]
    }
   ],
   "source": [
    "no2 = int(input(\"Enter total no of products to add: \"))\n",
    "\n",
    "for x in range(no2):\n",
    "    \n",
    "        id2 = input(\"Enter the product ID :\")\n",
    "        quantity1 = int(input(\"Enter the quantity:\"))\n",
    "        \n",
    "        json_object[id2]['QUANTITY'] = int(json_object[id2]['QUANTITY']) + quantity1\n",
    "        c_file = open(\"records.json\", \"w\")\n",
    "        json.dump(json_object, c_file)\n",
    "        c_file.close()"
   ]
  },
  {
   "cell_type": "code",
   "execution_count": null,
   "id": "18c46610",
   "metadata": {},
   "outputs": [],
   "source": []
  }
 ],
 "metadata": {
  "kernelspec": {
   "display_name": "Python 3",
   "language": "python",
   "name": "python3"
  },
  "language_info": {
   "codemirror_mode": {
    "name": "ipython",
    "version": 3
   },
   "file_extension": ".py",
   "mimetype": "text/x-python",
   "name": "python",
   "nbconvert_exporter": "python",
   "pygments_lexer": "ipython3",
   "version": "3.8.8"
  }
 },
 "nbformat": 4,
 "nbformat_minor": 5
}
